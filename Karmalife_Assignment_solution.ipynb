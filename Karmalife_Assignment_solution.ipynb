{
 "cells": [
  {
   "cell_type": "markdown",
   "id": "f5e073be",
   "metadata": {},
   "source": [
    "# Required imports for the task"
   ]
  },
  {
   "cell_type": "code",
   "execution_count": 1,
   "id": "526d046b",
   "metadata": {},
   "outputs": [],
   "source": [
    "from pymongo import MongoClient\n",
    "import pandas as pd\n",
    "import numpy as np\n",
    "import os\n",
    "from pathlib import Path\n",
    "from bson.son import SON\n",
    "import dateutil.parser\n",
    "import zipfile38 as zipfile"
   ]
  },
  {
   "cell_type": "markdown",
   "id": "3d757da5",
   "metadata": {},
   "source": [
    "# Given database uri "
   ]
  },
  {
   "cell_type": "code",
   "execution_count": 2,
   "id": "2b43bcda",
   "metadata": {},
   "outputs": [],
   "source": [
    "client = MongoClient(f'mongodb+srv://----.mongodb.net/s------')"
   ]
  },
  {
   "cell_type": "code",
   "execution_count": 3,
   "id": "b2f1cc8c",
   "metadata": {},
   "outputs": [],
   "source": [
    "db = client.sample_mflix"
   ]
  },
  {
   "cell_type": "markdown",
   "id": "c2154a40",
   "metadata": {},
   "source": [
    "# Collections required for data frames"
   ]
  },
  {
   "cell_type": "code",
   "execution_count": 4,
   "id": "6e59f5b5",
   "metadata": {},
   "outputs": [],
   "source": [
    "c_movies = db.movies"
   ]
  },
  {
   "cell_type": "code",
   "execution_count": 5,
   "id": "ca798066",
   "metadata": {},
   "outputs": [],
   "source": [
    "c_comments = db.comments"
   ]
  },
  {
   "cell_type": "code",
   "execution_count": 6,
   "id": "5bad9e6f",
   "metadata": {},
   "outputs": [],
   "source": [
    "c_theaters =  db.theaters"
   ]
  },
  {
   "cell_type": "markdown",
   "id": "93007de4",
   "metadata": {},
   "source": [
    "# Dataframes created from sample_mflix collections "
   ]
  },
  {
   "cell_type": "code",
   "execution_count": 7,
   "id": "6641b6e5",
   "metadata": {},
   "outputs": [],
   "source": [
    "df_movies = pd.DataFrame(list(c_movies.find({})))"
   ]
  },
  {
   "cell_type": "code",
   "execution_count": 8,
   "id": "747f7683",
   "metadata": {},
   "outputs": [
    {
     "data": {
      "text/html": [
       "<div>\n",
       "<style scoped>\n",
       "    .dataframe tbody tr th:only-of-type {\n",
       "        vertical-align: middle;\n",
       "    }\n",
       "\n",
       "    .dataframe tbody tr th {\n",
       "        vertical-align: top;\n",
       "    }\n",
       "\n",
       "    .dataframe thead th {\n",
       "        text-align: right;\n",
       "    }\n",
       "</style>\n",
       "<table border=\"1\" class=\"dataframe\">\n",
       "  <thead>\n",
       "    <tr style=\"text-align: right;\">\n",
       "      <th></th>\n",
       "      <th>_id</th>\n",
       "      <th>plot</th>\n",
       "      <th>genres</th>\n",
       "      <th>runtime</th>\n",
       "      <th>cast</th>\n",
       "      <th>num_mflix_comments</th>\n",
       "      <th>title</th>\n",
       "      <th>fullplot</th>\n",
       "      <th>countries</th>\n",
       "      <th>released</th>\n",
       "      <th>...</th>\n",
       "      <th>awards</th>\n",
       "      <th>lastupdated</th>\n",
       "      <th>year</th>\n",
       "      <th>imdb</th>\n",
       "      <th>type</th>\n",
       "      <th>tomatoes</th>\n",
       "      <th>poster</th>\n",
       "      <th>writers</th>\n",
       "      <th>languages</th>\n",
       "      <th>metacritic</th>\n",
       "    </tr>\n",
       "  </thead>\n",
       "  <tbody>\n",
       "    <tr>\n",
       "      <th>0</th>\n",
       "      <td>573a1390f29313caabcd4135</td>\n",
       "      <td>Three men hammer on an anvil and pass a bottle...</td>\n",
       "      <td>[Short]</td>\n",
       "      <td>1.0</td>\n",
       "      <td>[Charles Kayser, John Ott]</td>\n",
       "      <td>1.0</td>\n",
       "      <td>Blacksmith Scene</td>\n",
       "      <td>A stationary camera looks at a large anvil wit...</td>\n",
       "      <td>[USA]</td>\n",
       "      <td>1893-05-09</td>\n",
       "      <td>...</td>\n",
       "      <td>{'wins': 1, 'nominations': 0, 'text': '1 win.'}</td>\n",
       "      <td>2015-08-26 00:03:50.133000000</td>\n",
       "      <td>1893</td>\n",
       "      <td>{'rating': 6.2, 'votes': 1189, 'id': 5}</td>\n",
       "      <td>movie</td>\n",
       "      <td>{'viewer': {'rating': 3.0, 'numReviews': 184, ...</td>\n",
       "      <td>NaN</td>\n",
       "      <td>NaN</td>\n",
       "      <td>NaN</td>\n",
       "      <td>NaN</td>\n",
       "    </tr>\n",
       "    <tr>\n",
       "      <th>1</th>\n",
       "      <td>573a1391f29313caabcd7fb7</td>\n",
       "      <td>The first film adaptation of Sir Arthur Conan ...</td>\n",
       "      <td>[Adventure, Fantasy]</td>\n",
       "      <td>106.0</td>\n",
       "      <td>[Bessie Love, Lewis Stone, Wallace Beery, Lloy...</td>\n",
       "      <td>NaN</td>\n",
       "      <td>The Lost World</td>\n",
       "      <td>Explorer Professor Challenger is taking quite ...</td>\n",
       "      <td>[USA]</td>\n",
       "      <td>1925-06-22</td>\n",
       "      <td>...</td>\n",
       "      <td>{'wins': 1, 'nominations': 1, 'text': '1 win &amp;...</td>\n",
       "      <td>2015-08-26 00:55:12.337000000</td>\n",
       "      <td>1925</td>\n",
       "      <td>{'rating': 7.1, 'votes': 3154, 'id': 16039}</td>\n",
       "      <td>movie</td>\n",
       "      <td>{'viewer': {'rating': 3.5, 'numReviews': 3198,...</td>\n",
       "      <td>https://m.media-amazon.com/images/M/MV5BMzQxMj...</td>\n",
       "      <td>[Arthur Conan Doyle (based upon the novel by),...</td>\n",
       "      <td>NaN</td>\n",
       "      <td>NaN</td>\n",
       "    </tr>\n",
       "    <tr>\n",
       "      <th>2</th>\n",
       "      <td>573a1390f29313caabcd6377</td>\n",
       "      <td>A rich young Easterner who has always wanted t...</td>\n",
       "      <td>[Comedy, Western, Romance]</td>\n",
       "      <td>72.0</td>\n",
       "      <td>[Douglas Fairbanks, Eileen Percy, Calvert Cart...</td>\n",
       "      <td>NaN</td>\n",
       "      <td>Wild and Woolly</td>\n",
       "      <td>A rich young Easterner who has always wanted t...</td>\n",
       "      <td>[USA]</td>\n",
       "      <td>1917-06-24</td>\n",
       "      <td>...</td>\n",
       "      <td>{'wins': 1, 'nominations': 0, 'text': '1 win.'}</td>\n",
       "      <td>2015-06-05 00:40:35.137000000</td>\n",
       "      <td>1917</td>\n",
       "      <td>{'rating': 6.9, 'votes': 388, 'id': 8775}</td>\n",
       "      <td>movie</td>\n",
       "      <td>NaN</td>\n",
       "      <td>NaN</td>\n",
       "      <td>[Horace B. Carpenter (story), John Emerson, An...</td>\n",
       "      <td>[English]</td>\n",
       "      <td>NaN</td>\n",
       "    </tr>\n",
       "    <tr>\n",
       "      <th>3</th>\n",
       "      <td>573a1390f29313caabcd446f</td>\n",
       "      <td>A greedy tycoon decides, on a whim, to corner ...</td>\n",
       "      <td>[Short, Drama]</td>\n",
       "      <td>14.0</td>\n",
       "      <td>[Frank Powell, Grace Henderson, James Kirkwood...</td>\n",
       "      <td>1.0</td>\n",
       "      <td>A Corner in Wheat</td>\n",
       "      <td>A greedy tycoon decides, on a whim, to corner ...</td>\n",
       "      <td>[USA]</td>\n",
       "      <td>1909-12-13</td>\n",
       "      <td>...</td>\n",
       "      <td>{'wins': 1, 'nominations': 0, 'text': '1 win.'}</td>\n",
       "      <td>2015-08-13 00:46:30.660000000</td>\n",
       "      <td>1909</td>\n",
       "      <td>{'rating': 6.6, 'votes': 1375, 'id': 832}</td>\n",
       "      <td>movie</td>\n",
       "      <td>{'viewer': {'rating': 3.6, 'numReviews': 109, ...</td>\n",
       "      <td>NaN</td>\n",
       "      <td>NaN</td>\n",
       "      <td>[English]</td>\n",
       "      <td>NaN</td>\n",
       "    </tr>\n",
       "    <tr>\n",
       "      <th>4</th>\n",
       "      <td>573a1390f29313caabcd5c0f</td>\n",
       "      <td>The story of a poor young woman, separated by ...</td>\n",
       "      <td>[Drama, History]</td>\n",
       "      <td>197.0</td>\n",
       "      <td>[Lillian Gish, Spottiswoode Aitken, Mary Alden...</td>\n",
       "      <td>1.0</td>\n",
       "      <td>Intolerance: Love's Struggle Throughout the Ages</td>\n",
       "      <td>Intolerance and its terrible effects are exami...</td>\n",
       "      <td>[USA]</td>\n",
       "      <td>1916-09-05</td>\n",
       "      <td>...</td>\n",
       "      <td>{'wins': 1, 'nominations': 0, 'text': '1 win.'}</td>\n",
       "      <td>2015-09-05 00:01:19.580000000</td>\n",
       "      <td>1916</td>\n",
       "      <td>{'rating': 8.0, 'votes': 9880, 'id': 6864}</td>\n",
       "      <td>movie</td>\n",
       "      <td>{'viewer': {'rating': 3.8, 'numReviews': 4718,...</td>\n",
       "      <td>https://m.media-amazon.com/images/M/MV5BZTc0Yj...</td>\n",
       "      <td>[D.W. Griffith (scenario), Anita Loos (titles)]</td>\n",
       "      <td>NaN</td>\n",
       "      <td>NaN</td>\n",
       "    </tr>\n",
       "  </tbody>\n",
       "</table>\n",
       "<p>5 rows × 22 columns</p>\n",
       "</div>"
      ],
      "text/plain": [
       "                        _id  \\\n",
       "0  573a1390f29313caabcd4135   \n",
       "1  573a1391f29313caabcd7fb7   \n",
       "2  573a1390f29313caabcd6377   \n",
       "3  573a1390f29313caabcd446f   \n",
       "4  573a1390f29313caabcd5c0f   \n",
       "\n",
       "                                                plot  \\\n",
       "0  Three men hammer on an anvil and pass a bottle...   \n",
       "1  The first film adaptation of Sir Arthur Conan ...   \n",
       "2  A rich young Easterner who has always wanted t...   \n",
       "3  A greedy tycoon decides, on a whim, to corner ...   \n",
       "4  The story of a poor young woman, separated by ...   \n",
       "\n",
       "                       genres  runtime  \\\n",
       "0                     [Short]      1.0   \n",
       "1        [Adventure, Fantasy]    106.0   \n",
       "2  [Comedy, Western, Romance]     72.0   \n",
       "3              [Short, Drama]     14.0   \n",
       "4            [Drama, History]    197.0   \n",
       "\n",
       "                                                cast  num_mflix_comments  \\\n",
       "0                         [Charles Kayser, John Ott]                 1.0   \n",
       "1  [Bessie Love, Lewis Stone, Wallace Beery, Lloy...                 NaN   \n",
       "2  [Douglas Fairbanks, Eileen Percy, Calvert Cart...                 NaN   \n",
       "3  [Frank Powell, Grace Henderson, James Kirkwood...                 1.0   \n",
       "4  [Lillian Gish, Spottiswoode Aitken, Mary Alden...                 1.0   \n",
       "\n",
       "                                              title  \\\n",
       "0                                  Blacksmith Scene   \n",
       "1                                    The Lost World   \n",
       "2                                   Wild and Woolly   \n",
       "3                                 A Corner in Wheat   \n",
       "4  Intolerance: Love's Struggle Throughout the Ages   \n",
       "\n",
       "                                            fullplot countries   released  \\\n",
       "0  A stationary camera looks at a large anvil wit...     [USA] 1893-05-09   \n",
       "1  Explorer Professor Challenger is taking quite ...     [USA] 1925-06-22   \n",
       "2  A rich young Easterner who has always wanted t...     [USA] 1917-06-24   \n",
       "3  A greedy tycoon decides, on a whim, to corner ...     [USA] 1909-12-13   \n",
       "4  Intolerance and its terrible effects are exami...     [USA] 1916-09-05   \n",
       "\n",
       "   ...                                             awards  \\\n",
       "0  ...    {'wins': 1, 'nominations': 0, 'text': '1 win.'}   \n",
       "1  ...  {'wins': 1, 'nominations': 1, 'text': '1 win &...   \n",
       "2  ...    {'wins': 1, 'nominations': 0, 'text': '1 win.'}   \n",
       "3  ...    {'wins': 1, 'nominations': 0, 'text': '1 win.'}   \n",
       "4  ...    {'wins': 1, 'nominations': 0, 'text': '1 win.'}   \n",
       "\n",
       "                     lastupdated  year  \\\n",
       "0  2015-08-26 00:03:50.133000000  1893   \n",
       "1  2015-08-26 00:55:12.337000000  1925   \n",
       "2  2015-06-05 00:40:35.137000000  1917   \n",
       "3  2015-08-13 00:46:30.660000000  1909   \n",
       "4  2015-09-05 00:01:19.580000000  1916   \n",
       "\n",
       "                                          imdb   type  \\\n",
       "0      {'rating': 6.2, 'votes': 1189, 'id': 5}  movie   \n",
       "1  {'rating': 7.1, 'votes': 3154, 'id': 16039}  movie   \n",
       "2    {'rating': 6.9, 'votes': 388, 'id': 8775}  movie   \n",
       "3    {'rating': 6.6, 'votes': 1375, 'id': 832}  movie   \n",
       "4   {'rating': 8.0, 'votes': 9880, 'id': 6864}  movie   \n",
       "\n",
       "                                            tomatoes  \\\n",
       "0  {'viewer': {'rating': 3.0, 'numReviews': 184, ...   \n",
       "1  {'viewer': {'rating': 3.5, 'numReviews': 3198,...   \n",
       "2                                                NaN   \n",
       "3  {'viewer': {'rating': 3.6, 'numReviews': 109, ...   \n",
       "4  {'viewer': {'rating': 3.8, 'numReviews': 4718,...   \n",
       "\n",
       "                                              poster  \\\n",
       "0                                                NaN   \n",
       "1  https://m.media-amazon.com/images/M/MV5BMzQxMj...   \n",
       "2                                                NaN   \n",
       "3                                                NaN   \n",
       "4  https://m.media-amazon.com/images/M/MV5BZTc0Yj...   \n",
       "\n",
       "                                             writers  languages metacritic  \n",
       "0                                                NaN        NaN        NaN  \n",
       "1  [Arthur Conan Doyle (based upon the novel by),...        NaN        NaN  \n",
       "2  [Horace B. Carpenter (story), John Emerson, An...  [English]        NaN  \n",
       "3                                                NaN  [English]        NaN  \n",
       "4    [D.W. Griffith (scenario), Anita Loos (titles)]        NaN        NaN  \n",
       "\n",
       "[5 rows x 22 columns]"
      ]
     },
     "execution_count": 8,
     "metadata": {},
     "output_type": "execute_result"
    }
   ],
   "source": [
    "df_movies.head()"
   ]
  },
  {
   "cell_type": "code",
   "execution_count": 9,
   "id": "cefd5abe",
   "metadata": {},
   "outputs": [],
   "source": [
    "df_comments = pd.DataFrame(list(c_comments.find({})))"
   ]
  },
  {
   "cell_type": "code",
   "execution_count": 10,
   "id": "12a7b727",
   "metadata": {},
   "outputs": [
    {
     "name": "stdout",
     "output_type": "stream",
     "text": [
      "50303 23530\n"
     ]
    }
   ],
   "source": [
    "print(c_comments.count_documents({}),c_movies.count_documents({}))"
   ]
  },
  {
   "cell_type": "code",
   "execution_count": 11,
   "id": "8505cbbc",
   "metadata": {},
   "outputs": [
    {
     "data": {
      "text/plain": [
       "False    16082\n",
       "True      7448\n",
       "Name: _id, dtype: int64"
      ]
     },
     "execution_count": 11,
     "metadata": {},
     "output_type": "execute_result"
    }
   ],
   "source": [
    "df_movies['_id'].isin(df_comments['movie_id']).value_counts()"
   ]
  },
  {
   "cell_type": "code",
   "execution_count": 12,
   "id": "f685b071",
   "metadata": {},
   "outputs": [
    {
     "data": {
      "text/html": [
       "<div>\n",
       "<style scoped>\n",
       "    .dataframe tbody tr th:only-of-type {\n",
       "        vertical-align: middle;\n",
       "    }\n",
       "\n",
       "    .dataframe tbody tr th {\n",
       "        vertical-align: top;\n",
       "    }\n",
       "\n",
       "    .dataframe thead th {\n",
       "        text-align: right;\n",
       "    }\n",
       "</style>\n",
       "<table border=\"1\" class=\"dataframe\">\n",
       "  <thead>\n",
       "    <tr style=\"text-align: right;\">\n",
       "      <th></th>\n",
       "      <th>_id</th>\n",
       "      <th>name</th>\n",
       "      <th>email</th>\n",
       "      <th>movie_id</th>\n",
       "      <th>text</th>\n",
       "      <th>date</th>\n",
       "    </tr>\n",
       "  </thead>\n",
       "  <tbody>\n",
       "    <tr>\n",
       "      <th>0</th>\n",
       "      <td>5a9427648b0beebeb69579eb</td>\n",
       "      <td>Emily Ellis</td>\n",
       "      <td>emily_ellis@fakegmail.com</td>\n",
       "      <td>573a1390f29313caabcd432a</td>\n",
       "      <td>Iste molestiae animi minima quod ad. Corporis ...</td>\n",
       "      <td>1988-10-16 19:08:23</td>\n",
       "    </tr>\n",
       "    <tr>\n",
       "      <th>1</th>\n",
       "      <td>5a9427648b0beebeb6957a25</td>\n",
       "      <td>Osha</td>\n",
       "      <td>natalia_tena@gameofthron.es</td>\n",
       "      <td>573a1390f29313caabcd5181</td>\n",
       "      <td>Dolor inventore commodi eos ipsum earum vitae ...</td>\n",
       "      <td>1992-08-26 21:07:54</td>\n",
       "    </tr>\n",
       "    <tr>\n",
       "      <th>2</th>\n",
       "      <td>5a9427648b0beebeb6957a03</td>\n",
       "      <td>Beric Dondarrion</td>\n",
       "      <td>richard_dormer@gameofthron.es</td>\n",
       "      <td>573a1390f29313caabcd47f0</td>\n",
       "      <td>Placeat sapiente in natus nemo. Qui quibusdam ...</td>\n",
       "      <td>1998-09-04 04:41:51</td>\n",
       "    </tr>\n",
       "    <tr>\n",
       "      <th>3</th>\n",
       "      <td>5a9427648b0beebeb69579dd</td>\n",
       "      <td>Joshua Kent</td>\n",
       "      <td>joshua_kent@fakegmail.com</td>\n",
       "      <td>573a1390f29313caabcd42ee</td>\n",
       "      <td>Corporis pariatur rem autem accusamus debitis....</td>\n",
       "      <td>1993-12-06 18:45:21</td>\n",
       "    </tr>\n",
       "    <tr>\n",
       "      <th>4</th>\n",
       "      <td>5a9427648b0beebeb69579d3</td>\n",
       "      <td>Cameron Duran</td>\n",
       "      <td>cameron_duran@fakegmail.com</td>\n",
       "      <td>573a1390f29313caabcd4217</td>\n",
       "      <td>Quasi dicta culpa asperiores quaerat perferend...</td>\n",
       "      <td>1983-04-27 20:39:15</td>\n",
       "    </tr>\n",
       "  </tbody>\n",
       "</table>\n",
       "</div>"
      ],
      "text/plain": [
       "                        _id              name                          email  \\\n",
       "0  5a9427648b0beebeb69579eb       Emily Ellis      emily_ellis@fakegmail.com   \n",
       "1  5a9427648b0beebeb6957a25              Osha    natalia_tena@gameofthron.es   \n",
       "2  5a9427648b0beebeb6957a03  Beric Dondarrion  richard_dormer@gameofthron.es   \n",
       "3  5a9427648b0beebeb69579dd       Joshua Kent      joshua_kent@fakegmail.com   \n",
       "4  5a9427648b0beebeb69579d3     Cameron Duran    cameron_duran@fakegmail.com   \n",
       "\n",
       "                   movie_id  \\\n",
       "0  573a1390f29313caabcd432a   \n",
       "1  573a1390f29313caabcd5181   \n",
       "2  573a1390f29313caabcd47f0   \n",
       "3  573a1390f29313caabcd42ee   \n",
       "4  573a1390f29313caabcd4217   \n",
       "\n",
       "                                                text                date  \n",
       "0  Iste molestiae animi minima quod ad. Corporis ... 1988-10-16 19:08:23  \n",
       "1  Dolor inventore commodi eos ipsum earum vitae ... 1992-08-26 21:07:54  \n",
       "2  Placeat sapiente in natus nemo. Qui quibusdam ... 1998-09-04 04:41:51  \n",
       "3  Corporis pariatur rem autem accusamus debitis.... 1993-12-06 18:45:21  \n",
       "4  Quasi dicta culpa asperiores quaerat perferend... 1983-04-27 20:39:15  "
      ]
     },
     "execution_count": 12,
     "metadata": {},
     "output_type": "execute_result"
    }
   ],
   "source": [
    "df_comments.head()"
   ]
  },
  {
   "cell_type": "code",
   "execution_count": 13,
   "id": "d87de548",
   "metadata": {},
   "outputs": [],
   "source": [
    "df_theaters = pd.DataFrame(list(c_theaters.find({})))"
   ]
  },
  {
   "cell_type": "code",
   "execution_count": 14,
   "id": "d05afb7f",
   "metadata": {
    "scrolled": true
   },
   "outputs": [
    {
     "data": {
      "text/html": [
       "<div>\n",
       "<style scoped>\n",
       "    .dataframe tbody tr th:only-of-type {\n",
       "        vertical-align: middle;\n",
       "    }\n",
       "\n",
       "    .dataframe tbody tr th {\n",
       "        vertical-align: top;\n",
       "    }\n",
       "\n",
       "    .dataframe thead th {\n",
       "        text-align: right;\n",
       "    }\n",
       "</style>\n",
       "<table border=\"1\" class=\"dataframe\">\n",
       "  <thead>\n",
       "    <tr style=\"text-align: right;\">\n",
       "      <th></th>\n",
       "      <th>_id</th>\n",
       "      <th>theaterId</th>\n",
       "      <th>location</th>\n",
       "    </tr>\n",
       "  </thead>\n",
       "  <tbody>\n",
       "    <tr>\n",
       "      <th>0</th>\n",
       "      <td>59a47286cfa9a3a73e51e731</td>\n",
       "      <td>1010</td>\n",
       "      <td>{'address': {'street1': '1025 Veterans Pkwy', ...</td>\n",
       "    </tr>\n",
       "    <tr>\n",
       "      <th>1</th>\n",
       "      <td>59a47286cfa9a3a73e51e742</td>\n",
       "      <td>1024</td>\n",
       "      <td>{'address': {'street1': '138 E Interstate 20',...</td>\n",
       "    </tr>\n",
       "    <tr>\n",
       "      <th>2</th>\n",
       "      <td>59a47286cfa9a3a73e51e730</td>\n",
       "      <td>1002</td>\n",
       "      <td>{'address': {'street1': '1900 E Rio Salado Pkw...</td>\n",
       "    </tr>\n",
       "    <tr>\n",
       "      <th>3</th>\n",
       "      <td>59a47286cfa9a3a73e51e764</td>\n",
       "      <td>1063</td>\n",
       "      <td>{'address': {'street1': '1018 24th Ave SW', 'c...</td>\n",
       "    </tr>\n",
       "    <tr>\n",
       "      <th>4</th>\n",
       "      <td>59a47286cfa9a3a73e51e74d</td>\n",
       "      <td>1035</td>\n",
       "      <td>{'address': {'street1': '2041 Highway 287 N', ...</td>\n",
       "    </tr>\n",
       "  </tbody>\n",
       "</table>\n",
       "</div>"
      ],
      "text/plain": [
       "                        _id  theaterId  \\\n",
       "0  59a47286cfa9a3a73e51e731       1010   \n",
       "1  59a47286cfa9a3a73e51e742       1024   \n",
       "2  59a47286cfa9a3a73e51e730       1002   \n",
       "3  59a47286cfa9a3a73e51e764       1063   \n",
       "4  59a47286cfa9a3a73e51e74d       1035   \n",
       "\n",
       "                                            location  \n",
       "0  {'address': {'street1': '1025 Veterans Pkwy', ...  \n",
       "1  {'address': {'street1': '138 E Interstate 20',...  \n",
       "2  {'address': {'street1': '1900 E Rio Salado Pkw...  \n",
       "3  {'address': {'street1': '1018 24th Ave SW', 'c...  \n",
       "4  {'address': {'street1': '2041 Highway 287 N', ...  "
      ]
     },
     "execution_count": 14,
     "metadata": {},
     "output_type": "execute_result"
    }
   ],
   "source": [
    "df_theaters.head()"
   ]
  },
  {
   "cell_type": "markdown",
   "id": "6a99e775",
   "metadata": {},
   "source": [
    "# Creating Directory for report csv files same path will be used for attachment list"
   ]
  },
  {
   "cell_type": "code",
   "execution_count": 15,
   "id": "c7026ed1",
   "metadata": {},
   "outputs": [],
   "source": [
    "path_to_destination = Path(os.getcwd() +\"/movies\")\n",
    "path_to_destination.mkdir(parents=True, exist_ok=True)"
   ]
  },
  {
   "cell_type": "markdown",
   "id": "94a2ee0f",
   "metadata": {},
   "source": [
    "#  Functions to fetch data from monogdb ,create dataframe and save as csv"
   ]
  },
  {
   "cell_type": "code",
   "execution_count": 16,
   "id": "a8dca1df",
   "metadata": {},
   "outputs": [],
   "source": [
    "                        #function 1        \n",
    "def movies_with_no_comments():\n",
    "    mvwnc = df_movies.loc[~df_movies['_id'].isin(df_comments['movie_id'])]\n",
    "    mvwnc.to_csv(f'{path_to_destination}/movies_with_no_comments.csv',sep=',')\n",
    "\n",
    "\n",
    "                            #function 2\n",
    "\n",
    "def movies_with_comments():    \n",
    "    mvwc = df_movies.loc[df_movies['_id'].isin(df_comments['movie_id'])]\n",
    "    mvwc['low_runtime'] =np.where(mvwc['runtime']<50, True, False)\n",
    "    mvwc['high_runtime'] =np.where(mvwc['runtime']>50,True, False)\n",
    "    mvwc.to_csv(f'{path_to_destination}/movies_with_comments.csv',sep=',')\n",
    "\n",
    "\n",
    "\n",
    "                                #function 3\n",
    "\n",
    "def movies_rating_8_released_aft_2000():\n",
    "    g8r200 = c_movies.find({\"$and\":[{\"imdb.rating\":{\"$gt\":8}},{\"released\":{\"$gte\":dateutil.parser.parse(\"2000-01-01T00:00:00.000Z\")}},{\"awards.wins\":{\"$gt\":3}}]})\n",
    "    df_g8r20 = pd.DataFrame(list(g8r200))\n",
    "    df_g8r20.to_csv(f'{path_to_destination}/movies_rating_8_released_aft_2000.csv',sep=',')\n",
    "\n",
    "\n",
    "                                #fucdtion 4\n",
    "\n",
    "def theatre_simplified():\n",
    "    theater_dict = c_theaters.find({})\n",
    "    theatre_simplified = pd.json_normalize(list(theater_dict))\n",
    "    theatre_simplified.columns =['_id', 'theaterId', 'street1', 'city','state', 'zipcode','type', '[X-cordinate,Y-cordinate]','street2']\n",
    "    theatre_simplified.to_csv(f'{path_to_destination}/theatre_simplified.csv',sep=',')\n",
    "   \n",
    "\n",
    "\n",
    "                                    #function 5\n",
    "\n",
    "def released_outside_usa():\n",
    "    released_outside_usa = pd.DataFrame(c_movies.find({\"countries\":{\"$ne\":\"USA\"}}))\n",
    "    released_outside_usa.to_csv(f'{path_to_destination}/released_outside_usa.csv',sep=',')    \n"
   ]
  },
  {
   "cell_type": "markdown",
   "id": "2ff9b625",
   "metadata": {},
   "source": [
    "# #save report  function "
   ]
  },
  {
   "cell_type": "code",
   "execution_count": 17,
   "id": "aa3c3081",
   "metadata": {},
   "outputs": [
    {
     "name": "stderr",
     "output_type": "stream",
     "text": [
      "/tmp/ipykernel_24682/1229903495.py:11: SettingWithCopyWarning: \n",
      "A value is trying to be set on a copy of a slice from a DataFrame.\n",
      "Try using .loc[row_indexer,col_indexer] = value instead\n",
      "\n",
      "See the caveats in the documentation: https://pandas.pydata.org/pandas-docs/stable/user_guide/indexing.html#returning-a-view-versus-a-copy\n",
      "  mvwc['low_runtime'] =np.where(mvwc['runtime']<50, True, False)\n",
      "/tmp/ipykernel_24682/1229903495.py:12: SettingWithCopyWarning: \n",
      "A value is trying to be set on a copy of a slice from a DataFrame.\n",
      "Try using .loc[row_indexer,col_indexer] = value instead\n",
      "\n",
      "See the caveats in the documentation: https://pandas.pydata.org/pandas-docs/stable/user_guide/indexing.html#returning-a-view-versus-a-copy\n",
      "  mvwc['high_runtime'] =np.where(mvwc['runtime']>50,True, False)\n"
     ]
    }
   ],
   "source": [
    "def save_report():\n",
    "    movies_with_no_comments()\n",
    "    movies_with_comments()\n",
    "    movies_rating_8_released_aft_2000()\n",
    "    theatre_simplified() \n",
    "    released_outside_usa()\n",
    "        \n",
    "save_report()  \n",
    "\n",
    "    \n"
   ]
  },
  {
   "cell_type": "markdown",
   "id": "2bec7ce5",
   "metadata": {},
   "source": [
    "# zip report function "
   ]
  },
  {
   "cell_type": "code",
   "execution_count": 18,
   "id": "b6fee259",
   "metadata": {},
   "outputs": [],
   "source": [
    "def zipdir(path, ziph):\n",
    "    # ziph is zipfile handle\n",
    "    for root, dirs, files in os.walk(path):\n",
    "        for file in files:\n",
    "            ziph.write(os.path.join(root, file), \n",
    "                       os.path.relpath(os.path.join(root, file), \n",
    "                                       os.path.join(path, '..')))\n",
    "      \n",
    "zipf = zipfile.ZipFile('Report.zip', 'w', zipfile.ZIP_DEFLATED)\n",
    "zipdir('./movies/', zipf)\n",
    "zipf.close()\n",
    "compressed_report = './Report.zip'"
   ]
  },
  {
   "cell_type": "markdown",
   "id": "bb84d25f",
   "metadata": {},
   "source": [
    "# Yagmail lib to send mail with attachment"
   ]
  },
  {
   "cell_type": "code",
   "execution_count": null,
   "id": "4e850e8a",
   "metadata": {},
   "outputs": [],
   "source": [
    "import yagmail\n",
    "\n",
    "receiver = \"abcl@outlook.com\"\n",
    "body = \"Hope you like my work\"\n",
    "#filename = \"document.pdf\"\n",
    "\n",
    "yag = yagmail.SMTP(\"xyz@gmail.com\")\n",
    "yag.send(\n",
    "    to=receiver,\n",
    "    subject=\"Assignment report \",\n",
    "    contents=body, \n",
    "    attachments=compressed_report,\n",
    ")"
   ]
  }
 ],
 "metadata": {
  "kernelspec": {
   "display_name": "Python 3.8.10 64-bit",
   "language": "python",
   "name": "python3810jvsc74a57bd0916dbcbb3f70747c44a77c7bcd40155683ae19c65e1c03b4aa3499c5328201f1"
  },
  "language_info": {
   "codemirror_mode": {
    "name": "ipython",
    "version": 3
   },
   "file_extension": ".py",
   "mimetype": "text/x-python",
   "name": "python",
   "nbconvert_exporter": "python",
   "pygments_lexer": "ipython3",
   "version": "3.8.10"
  }
 },
 "nbformat": 4,
 "nbformat_minor": 5
}
